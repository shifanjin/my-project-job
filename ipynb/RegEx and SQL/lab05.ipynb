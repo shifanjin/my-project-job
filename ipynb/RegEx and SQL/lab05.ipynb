{
 "cells": [
  {
   "cell_type": "code",
   "execution_count": 1,
   "metadata": {
    "deletable": false,
    "editable": false
   },
   "outputs": [
    {
     "name": "stdout",
     "output_type": "stream",
     "text": [
      "=====================================================================\n",
      "Assignment: lab05\n",
      "OK, version v1.13.11\n",
      "=====================================================================\n",
      "\n"
     ]
    }
   ],
   "source": [
    "# Initialize OK\n",
    "from client.api.notebook import Notebook\n",
    "ok = Notebook('lab05.ok')"
   ]
  },
  {
   "cell_type": "markdown",
   "metadata": {
    "nbgrader": {
     "grade": false,
     "grade_id": "intro",
     "locked": true,
     "schema_version": 2,
     "solution": false
    }
   },
   "source": [
    "# Lab 5: Regular Expressions, SQL\n",
    "\n",
    "## Course Policies\n",
    "\n",
    "Here are some important course policies. These are also located at\n",
    "http://www.ds100.org/sp19/.\n",
    "\n",
    "**Collaboration Policy**\n",
    "\n",
    "Data science is a collaborative activity. While you may talk with others about\n",
    "the homework, we ask that you **write your solutions individually**. If you do\n",
    "discuss the assignments with others please **include their names** at the top\n",
    "of your solution.\n",
    "\n",
    "\n",
    "## Due Date\n",
    "\n",
    "This assignment is due at **11:59pm Wednesday, February 20th**."
   ]
  },
  {
   "cell_type": "markdown",
   "metadata": {},
   "source": [
    "# Collaborators"
   ]
  },
  {
   "cell_type": "markdown",
   "metadata": {},
   "source": [
    "Write names in this cell:"
   ]
  },
  {
   "cell_type": "code",
   "execution_count": 2,
   "metadata": {
    "nbgrader": {
     "grade": false,
     "grade_id": "imports",
     "locked": true,
     "schema_version": 2,
     "solution": false
    }
   },
   "outputs": [],
   "source": [
    "import pandas as pd\n",
    "import numpy as np\n",
    "import re\n",
    "import sqlalchemy\n",
    "\n",
    "from ds100_utils import fetch_and_cache\n",
    "from pathlib import Path"
   ]
  },
  {
   "cell_type": "markdown",
   "metadata": {
    "nbgrader": {
     "grade": false,
     "grade_id": "objectives",
     "locked": true,
     "schema_version": 2,
     "solution": false
    }
   },
   "source": [
    "## Objectives for Lab 5:\n",
    "\n",
    "This lab has two main parts. \n",
    "\n",
    "In the first part, you will practice the basic usage of regular expressions and also learn to use `re` module in Python.  Some of the materials are based on the tutorial at http://opim.wharton.upenn.edu/~sok/idtresources/python/regex.pdf. As you work through the first part of the lab, you may also find the website http://regex101.com helpful. \n",
    "\n",
    "In the second part of the lab, we are going to practice viewing, sorting, grouping, and merging tables with SQL. "
   ]
  },
  {
   "cell_type": "markdown",
   "metadata": {
    "nbgrader": {
     "grade": false,
     "grade_id": "part1",
     "locked": true,
     "schema_version": 2,
     "solution": false
    }
   },
   "source": [
    "---\n",
    "# Part 1: Regular Expressions\n",
    "\n",
    "We'll start by learning about the simplest possible regular expressions. Since regular expressions are used\n",
    "to operate on strings, we'll start with the most common task: matching characters.\n",
    "\n",
    "Most letters and characters will simply match themselves. For example, the regular expression `r'test'` will match the string `test` exactly. There are exceptions to this rule; some characters are special, and don't match themselves.\n",
    "\n",
    "Here is a list of metacharacters that are widely used in regular experssion. \n",
    "\n",
    "<table border=\"1\" class=\"dataframe\" >\n",
    "<thead>\n",
    "  <tr style=\"text-align: right;\">\n",
    "    <th>Pattern </th>\n",
    "    <th>Description</th> \n",
    "  </tr>\n",
    " </thead>\n",
    " <tbody>\n",
    "  <tr>\n",
    "    <td>^</td>\n",
    "    <td>Matches beginning of line.</td> \n",
    "  </tr>\n",
    "  <tr>\n",
    "    <td>$</td>\n",
    "    <td>Matches end of line.</td> \n",
    "  </tr>\n",
    "  <tr>\n",
    "    <td>.</td>\n",
    "    <td>Matches any single character except newline. </td> \n",
    "  </tr>\n",
    "  <tr>\n",
    "    <td>*</td>\n",
    "    <td>Matches 0 or more occurrences of preceding expression.</td>\n",
    "  </tr>\n",
    "  <tr>\n",
    "    <td>+</td>\n",
    "    <td>Matches 1 or more occurrence of preceding expression.</td>\n",
    "  </tr>\n",
    "  <tr>\n",
    "    <td>?</td>\n",
    "    <td>Matches 0 or 1 occurrence of preceding expression.</td>\n",
    "  </tr>\n",
    "  <tr>\n",
    "    <td>[...]</td>\n",
    "    <td>Matches any single character in brackets.</td>\n",
    "  </tr>\n",
    "  <tr>\n",
    "    <td>[^...]</td>\n",
    "    <td>Matches any single character <b>not</b> in brackets.</td>\n",
    "  </tr>\n",
    "  <tr>\n",
    "    <td>{n}</td>\n",
    "    <td>Matches exactly n number of occurrences of preceding expression.</td>\n",
    "  </tr>\n",
    "  <tr>\n",
    "    <td>{n,}</td>\n",
    "    <td>Matches n or more occurrences of preceding expression.</td>\n",
    "  </tr>\n",
    "  <tr>\n",
    "    <td>{n,m}</td>\n",
    "    <td>Matches at least n and at most m occurrences of preceding expression.</td>\n",
    "  </tr>\n",
    "  <tr>\n",
    "    <td>a|b</td>\n",
    "    <td>Matches either a or b.</td>\n",
    "  </tr>\n",
    "  <tr>\n",
    "    <td>\\1...\\9</td>\n",
    "    <td>Matches n-th grouped subexpression.</td>\n",
    "  </tr>\n",
    "  </tbody>\n",
    "</table>\n",
    "\n",
    "\n",
    "Perhaps the most important metacharacter is the backslash, ‘\\’. As in Python string literals, the backslash\n",
    "can be followed by various characters to signal various special sequences. It’s also used to escape all the\n",
    "metacharacters so you can still match them in patterns; for example, if you need to match a `[` or `\\`, you\n",
    "can precede them with a backslash to remove their special meaning:  `\\[` or `\\\\`. \n",
    "\n",
    "The following predefined special sequences are available:\n",
    "\n",
    "<table border=\"1\" class=\"dataframe\" >\n",
    "<thead>\n",
    "  <tr style=\"text-align: right;\">\n",
    "    <th>Pattern </th>\n",
    "    <th>Description</th> \n",
    "  </tr>\n",
    " </thead>\n",
    " <tbody>\n",
    "  <tr>\n",
    "    <td>\\d</td>\n",
    "    <td>Matches any decimal digit; this is equivalent to the class `[0-9]`</td> \n",
    "  </tr>\n",
    "  <tr>\n",
    "    <td>\\D</td>\n",
    "    <td>Matches any non-digit character; this is equivalent to the class `[^0-9]`.</td> \n",
    "  </tr>\n",
    "  <tr>\n",
    "    <td>\\s</td>\n",
    "    <td>Matches any whitespace character; this is equivalent to the class `[ \\t\\n\\r\\f\\v]` </td> \n",
    "  </tr>\n",
    "  <tr>\n",
    "    <td>\\S</td>\n",
    "    <td>Matches any non-whitespace character; this is equivalent to the class `[^ \\t\\n\\r\\f\\v]`.</td>\n",
    "  </tr>\n",
    "  <tr>\n",
    "    <td>\\w</td>\n",
    "    <td>Matches any alphanumeric character; this is equivalent to the class `[a-zA-Z0-9_]`</td>\n",
    "  </tr>\n",
    "  <tr>\n",
    "    <td>\\W</td>\n",
    "    <td>Matches any non-alphanumeric character; this is equivalent to the class `[^a-zA-Z0-9_]`.</td>\n",
    "  </tr>\n",
    "  </tbody>\n",
    "</table>"
   ]
  },
  {
   "cell_type": "markdown",
   "metadata": {
    "nbgrader": {
     "grade": false,
     "grade_id": "q1",
     "locked": true,
     "schema_version": 2,
     "solution": false
    }
   },
   "source": [
    "# Question 1\n",
    "In this question, write patterns that match the given sequences. It may be as simple as the common letters on each line."
   ]
  },
  {
   "cell_type": "markdown",
   "metadata": {
    "deletable": false,
    "editable": false,
    "nbgrader": {
     "grade": false,
     "grade_id": "q1a",
     "locked": true,
     "schema_version": 2,
     "solution": false
    }
   },
   "source": [
    "---\n",
    "## Question 1a\n",
    "\n",
    "Write a single regular expression to match the following strings without using the `|` operator.\n",
    "\n",
    "1. **Match:** `abcdefg`\n",
    "1. **Match:** `abcde`\n",
    "1. **Match:** `abc`\n",
    "1. **Skip:** `c abc`\n",
    "\n",
    "<!--\n",
    "BEGIN QUESTION\n",
    "name: q1a\n",
    "-->"
   ]
  },
  {
   "cell_type": "code",
   "execution_count": 5,
   "metadata": {
    "nbgrader": {
     "grade": false,
     "grade_id": "q1a-answer",
     "locked": false,
     "schema_version": 2,
     "solution": true
    }
   },
   "outputs": [],
   "source": [
    "regx1 = r\"^a.+\" # fill in your pattern\n",
    "#..."
   ]
  },
  {
   "cell_type": "code",
   "execution_count": 6,
   "metadata": {
    "deletable": false,
    "editable": false
   },
   "outputs": [
    {
     "name": "stdout",
     "output_type": "stream",
     "text": [
      "~~~~~~~~~~~~~~~~~~~~~~~~~~~~~~~~~~~~~~~~~~~~~~~~~~~~~~~~~~~~~~~~~~~~~\n",
      "Running tests\n",
      "\n",
      "---------------------------------------------------------------------\n",
      "Test summary\n",
      "    Passed: 5\n",
      "    Failed: 0\n",
      "[ooooooooook] 100.0% passed\n",
      "\n"
     ]
    }
   ],
   "source": [
    "ok.grade(\"q1a\");"
   ]
  },
  {
   "cell_type": "markdown",
   "metadata": {
    "deletable": false,
    "editable": false,
    "nbgrader": {
     "grade": false,
     "grade_id": "q1b",
     "locked": true,
     "schema_version": 2,
     "solution": false
    }
   },
   "source": [
    "---\n",
    "## Question 1b\n",
    "\n",
    "Write a single regular expression to match the following strings without using the `|` operator.\n",
    "\n",
    "1. **Match:** `can`\n",
    "1. **Match:** `man`\n",
    "1. **Match:** `fan`\n",
    "1. **Skip:** `dan`\n",
    "1. **Skip:** `ran`\n",
    "1. **Skip:** `pan`\n",
    "\n",
    "<!--\n",
    "BEGIN QUESTION\n",
    "name: q1b\n",
    "-->"
   ]
  },
  {
   "cell_type": "code",
   "execution_count": 44,
   "metadata": {
    "nbgrader": {
     "grade": false,
     "grade_id": "q1b-answer",
     "locked": false,
     "schema_version": 2,
     "solution": true
    }
   },
   "outputs": [],
   "source": [
    "regx2 = r\"[cmf]an\" # fill in your pattern\n",
    "..."
   ]
  },
  {
   "cell_type": "code",
   "execution_count": 45,
   "metadata": {
    "deletable": false,
    "editable": false
   },
   "outputs": [
    {
     "name": "stdout",
     "output_type": "stream",
     "text": [
      "~~~~~~~~~~~~~~~~~~~~~~~~~~~~~~~~~~~~~~~~~~~~~~~~~~~~~~~~~~~~~~~~~~~~~\n",
      "Running tests\n",
      "\n",
      "---------------------------------------------------------------------\n",
      "Test summary\n",
      "    Passed: 7\n",
      "    Failed: 0\n",
      "[ooooooooook] 100.0% passed\n",
      "\n"
     ]
    }
   ],
   "source": [
    "ok.grade(\"q1b\");"
   ]
  },
  {
   "cell_type": "markdown",
   "metadata": {
    "nbgrader": {
     "grade": false,
     "grade_id": "q2",
     "locked": true,
     "schema_version": 2,
     "solution": false
    }
   },
   "source": [
    "# Question 2\n",
    "\n",
    "Now that we have written a few regular expressions, we are now ready to move beyond matching. In this question, we'll take a look at some methods from the `re` package."
   ]
  },
  {
   "cell_type": "markdown",
   "metadata": {
    "deletable": false,
    "editable": false,
    "nbgrader": {
     "grade": false,
     "grade_id": "q2a",
     "locked": true,
     "schema_version": 2,
     "solution": false
    }
   },
   "source": [
    "---\n",
    "## Question 2a:\n",
    "\n",
    "Write a Python program to extract and print the numbers of a given string. \n",
    "\n",
    "1. **Hint:** use `re.findall`\n",
    "2. **Hint:** use `\\d` for digits and one of either `*` or `+`.\n",
    "\n",
    "<!--\n",
    "BEGIN QUESTION\n",
    "name: q2a\n",
    "-->"
   ]
  },
  {
   "cell_type": "code",
   "execution_count": 51,
   "metadata": {
    "nbgrader": {
     "grade": false,
     "grade_id": "q2a-answer",
     "locked": false,
     "schema_version": 2,
     "solution": true
    }
   },
   "outputs": [
    {
     "data": {
      "text/plain": [
       "['10', '20', '30']"
      ]
     },
     "execution_count": 51,
     "metadata": {},
     "output_type": "execute_result"
    }
   ],
   "source": [
    "text_q2a = \"Ten 10, Twenty 20, Thirty 30\"\n",
    "\n",
    "res_q2a = re.findall(r\"\\d{2}\", text_q2a)\n",
    "# ...\n",
    "\n",
    "res_q2a"
   ]
  },
  {
   "cell_type": "code",
   "execution_count": 52,
   "metadata": {
    "deletable": false,
    "editable": false
   },
   "outputs": [
    {
     "name": "stdout",
     "output_type": "stream",
     "text": [
      "~~~~~~~~~~~~~~~~~~~~~~~~~~~~~~~~~~~~~~~~~~~~~~~~~~~~~~~~~~~~~~~~~~~~~\n",
      "Running tests\n",
      "\n",
      "---------------------------------------------------------------------\n",
      "Test summary\n",
      "    Passed: 1\n",
      "    Failed: 0\n",
      "[ooooooooook] 100.0% passed\n",
      "\n"
     ]
    }
   ],
   "source": [
    "ok.grade(\"q2a\");"
   ]
  },
  {
   "cell_type": "markdown",
   "metadata": {
    "deletable": false,
    "editable": false,
    "nbgrader": {
     "grade": false,
     "grade_id": "q2b",
     "locked": true,
     "schema_version": 2,
     "solution": false
    }
   },
   "source": [
    "---\n",
    "## Question 2b:\n",
    "\n",
    "Write a Python program to replace at most 2 occurrences of space, comma, or dot with a colon.\n",
    "\n",
    "**Hint:** use `re.sub(regex, \"newtext\", string, number_of_occurences)`\n",
    "\n",
    "<!--\n",
    "BEGIN QUESTION\n",
    "name: q2b\n",
    "-->"
   ]
  },
  {
   "cell_type": "code",
   "execution_count": 71,
   "metadata": {
    "nbgrader": {
     "grade": false,
     "grade_id": "q2b-answer",
     "locked": false,
     "schema_version": 2,
     "solution": true
    }
   },
   "outputs": [
    {
     "data": {
      "text/plain": [
       "'Python:Exercises: PHP exercises.'"
      ]
     },
     "execution_count": 71,
     "metadata": {},
     "output_type": "execute_result"
    }
   ],
   "source": [
    "text_q2b = 'Python Exercises, PHP exercises.'\n",
    "res_q2b = re.sub(r'[\\s,.]', r':', text_q2b, count = 2)\n",
    "# Hint: use re.sub() re.sub(pattern, replacement, string)\n",
    "# ...\n",
    "\n",
    "res_q2b"
   ]
  },
  {
   "cell_type": "code",
   "execution_count": 72,
   "metadata": {
    "deletable": false,
    "editable": false
   },
   "outputs": [
    {
     "name": "stdout",
     "output_type": "stream",
     "text": [
      "~~~~~~~~~~~~~~~~~~~~~~~~~~~~~~~~~~~~~~~~~~~~~~~~~~~~~~~~~~~~~~~~~~~~~\n",
      "Running tests\n",
      "\n",
      "---------------------------------------------------------------------\n",
      "Test summary\n",
      "    Passed: 1\n",
      "    Failed: 0\n",
      "[ooooooooook] 100.0% passed\n",
      "\n"
     ]
    }
   ],
   "source": [
    "ok.grade(\"q2b\");"
   ]
  },
  {
   "cell_type": "markdown",
   "metadata": {
    "deletable": false,
    "editable": false,
    "nbgrader": {
     "grade": false,
     "grade_id": "q2c",
     "locked": true,
     "schema_version": 2,
     "solution": false
    }
   },
   "source": [
    "---\n",
    "## Question 2c: \n",
    "\n",
    "Write a Python program to extract values between quotation marks of a string.\n",
    "\n",
    "<!--\n",
    "BEGIN QUESTION\n",
    "name: q2c\n",
    "-->"
   ]
  },
  {
   "cell_type": "code",
   "execution_count": 210,
   "metadata": {
    "nbgrader": {
     "grade": false,
     "grade_id": "q2c-answer",
     "locked": false,
     "schema_version": 2,
     "solution": true
    }
   },
   "outputs": [
    {
     "data": {
      "text/plain": [
       "['Python', 'PHP', 'Java']"
      ]
     },
     "execution_count": 210,
     "metadata": {},
     "output_type": "execute_result"
    }
   ],
   "source": [
    "text_q2c = '\"Python\", \"PHP\", \"Java\"'\n",
    "res_q2c = re.findall(r'\"([^\"]+)\"', text_q2c)\n",
    "# Hint: use re.findall() re.findall(pattern, string)\n",
    "# ...\n",
    "\n",
    "res_q2c"
   ]
  },
  {
   "cell_type": "code",
   "execution_count": 211,
   "metadata": {
    "deletable": false,
    "editable": false
   },
   "outputs": [
    {
     "name": "stdout",
     "output_type": "stream",
     "text": [
      "~~~~~~~~~~~~~~~~~~~~~~~~~~~~~~~~~~~~~~~~~~~~~~~~~~~~~~~~~~~~~~~~~~~~~\n",
      "Running tests\n",
      "\n",
      "---------------------------------------------------------------------\n",
      "Test summary\n",
      "    Passed: 1\n",
      "    Failed: 0\n",
      "[ooooooooook] 100.0% passed\n",
      "\n"
     ]
    }
   ],
   "source": [
    "ok.grade(\"q2c\");"
   ]
  },
  {
   "cell_type": "markdown",
   "metadata": {
    "deletable": false,
    "editable": false
   },
   "source": [
    "## Question 2d:\n",
    "\n",
    "Write a regular expression to extract and print the quantity and type of objects in a string. You may assume that a space separates quantity and type, ie. `\"{quantity} {type}\"`. See the example string below for more detail.\n",
    "\n",
    "1. **Hint:** use `re.findall`\n",
    "2. **Hint:** use `\\d` for digits and one of either `*` or `+`.\n",
    "\n",
    "<!--\n",
    "BEGIN QUESTION\n",
    "name: q2d\n",
    "-->"
   ]
  },
  {
   "cell_type": "code",
   "execution_count": 103,
   "metadata": {},
   "outputs": [
    {
     "data": {
      "text/plain": [
       "['10 eggs', '20 gooses', '30 giants']"
      ]
     },
     "execution_count": 103,
     "metadata": {},
     "output_type": "execute_result"
    }
   ],
   "source": [
    "text_q2d = \"I've got 10 eggs that I stole from 20 gooses belonging to 30 giants.\"\n",
    "\n",
    "res_q2d = re.findall(r'(\\d+\\s[^\\s]+[\\w])', text_q2d)\n",
    "\n",
    "#...\n",
    "\n",
    "res_q2d"
   ]
  },
  {
   "cell_type": "code",
   "execution_count": 104,
   "metadata": {
    "deletable": false,
    "editable": false
   },
   "outputs": [
    {
     "name": "stdout",
     "output_type": "stream",
     "text": [
      "~~~~~~~~~~~~~~~~~~~~~~~~~~~~~~~~~~~~~~~~~~~~~~~~~~~~~~~~~~~~~~~~~~~~~\n",
      "Running tests\n",
      "\n",
      "---------------------------------------------------------------------\n",
      "Test summary\n",
      "    Passed: 1\n",
      "    Failed: 0\n",
      "[ooooooooook] 100.0% passed\n",
      "\n"
     ]
    }
   ],
   "source": [
    "ok.grade(\"q2d\");"
   ]
  },
  {
   "cell_type": "markdown",
   "metadata": {},
   "source": [
    "## Question 2e (optional):\n",
    "\n",
    "Write a regular expression to replace all words that are not `\"mushroom\"` with `\"badger\"`."
   ]
  },
  {
   "cell_type": "code",
   "execution_count": 24,
   "metadata": {},
   "outputs": [],
   "source": [
    "text_qe = 'this is a word mushroom mushroom'\n",
    "res_qe = ... # Hint: https://www.regextester.com/94017\n",
    "...\n",
    "res_qe"
   ]
  },
  {
   "cell_type": "markdown",
   "metadata": {
    "nbgrader": {
     "grade": false,
     "grade_id": "part2",
     "locked": true,
     "schema_version": 2,
     "solution": false
    }
   },
   "source": [
    "# Part 2: SQL\n",
    "\n",
    "In the rest of the lab, we explore the money donated during the 2016 election using the [Federal Election\n",
    "Commission's public records](http://www.fec.gov/finance/disclosure/ftpdet.shtml). You will be connecting to a sqlite database containing the data. The data we will be working with in this lab is quite small (16MB); however, it's taken from a larger database that more than few GBs!"
   ]
  },
  {
   "cell_type": "markdown",
   "metadata": {},
   "source": [
    "### Connecting to SQLite"
   ]
  },
  {
   "cell_type": "markdown",
   "metadata": {},
   "source": [
    "Download the database to local disk drive; this will take about a minute."
   ]
  },
  {
   "cell_type": "code",
   "execution_count": 105,
   "metadata": {
    "nbgrader": {
     "grade": false,
     "grade_id": "sql-setup1",
     "locked": true,
     "schema_version": 2,
     "solution": false
    }
   },
   "outputs": [
    {
     "name": "stdout",
     "output_type": "stream",
     "text": [
      "Downloading... Done!\n"
     ]
    }
   ],
   "source": [
    "db_url = 'https://s3.amazonaws.com/berkeley-ds100/fec_nyc.sqlite'\n",
    "db_filename = 'fec_nyc.db'\n",
    "data_dir = Path('data')\n",
    "fetch_and_cache(db_url, db_filename, data_dir=data_dir)\n",
    "db_path = data_dir / db_filename"
   ]
  },
  {
   "cell_type": "markdown",
   "metadata": {},
   "source": [
    "The following cell will connect to the above database using the SQL Alchemy library. This library is more general than the `sqlite3` module from the standard library because it can connect to several different database management systems, such as MySQL and PostgreSQL. It also supports an advanced feature for generating queries called an [object relational mapper](https://docs.sqlalchemy.org/en/latest/orm/tutorial.html) or ORM, which we won't discuss in this course but is quite useful for application development."
   ]
  },
  {
   "cell_type": "code",
   "execution_count": 106,
   "metadata": {},
   "outputs": [],
   "source": [
    "engine = sqlalchemy.create_engine(f\"sqlite:///{db_path}\")\n",
    "connection = engine.connect()"
   ]
  },
  {
   "cell_type": "markdown",
   "metadata": {},
   "source": [
    "To check that everything is working we will list the available tables."
   ]
  },
  {
   "cell_type": "code",
   "execution_count": 107,
   "metadata": {},
   "outputs": [
    {
     "data": {
      "text/plain": [
       "['cand', 'comm', 'indiv_sample_nyc']"
      ]
     },
     "execution_count": 107,
     "metadata": {},
     "output_type": "execute_result"
    }
   ],
   "source": [
    "engine.table_names()"
   ]
  },
  {
   "cell_type": "markdown",
   "metadata": {},
   "source": [
    "## Table Descriptions\n",
    "\n",
    "Here is a list of the tables in the database.  Each table links to the documentation on the [FEC page](http://www.fec.gov/finance/disclosure/ftpdet.shtml) for the dataset.\n",
    "\n",
    "Note that the table names here are slightly different from the ones in lecture. Consult the FEC page\n",
    "for the descriptions of the tables to find out what the correspondence is.\n",
    "\n",
    "- [`cand`](http://www.fec.gov/finance/disclosure/metadata/DataDictionaryCandidateMaster.shtml): Candidates table. Contains names and party affiliation.\n",
    "- [`comm`](http://www.fec.gov/finance/disclosure/metadata/DataDictionaryCommitteeMaster.shtml): Committees table. Contains committee names and types.\n",
    "- [`indiv_sample_nyc`](http://www.fec.gov/finance/disclosure/metadata/DataDictionaryContributionsbyIndividuals.shtml): All individual contributions from New York City.\n",
    "\n",
    "We can explore the schemas of these tables with the following code from lecture 8."
   ]
  },
  {
   "cell_type": "code",
   "execution_count": 108,
   "metadata": {},
   "outputs": [
    {
     "name": "stdout",
     "output_type": "stream",
     "text": [
      "CREATE TABLE \"cand\" (\n",
      "    cand_id character varying(9),\n",
      "    cand_name text,\n",
      "    cand_pty_affiliation character varying(3),\n",
      "    cand_election_yr integer,\n",
      "    cand_office_st character varying(2),\n",
      "    cand_office character(1),\n",
      "    cand_office_district integer,\n",
      "    cand_ici character(1),\n",
      "    cand_status character(1),\n",
      "    cand_pcc character varying(9),\n",
      "    cand_st1 text,\n",
      "    cand_st2 text,\n",
      "    cand_city text,\n",
      "    cand_st character varying(2),\n",
      "    cand_zip character varying(10)\n",
      ")\n",
      "CREATE TABLE \"comm\"(\n",
      "  \"cmte_id\" TEXT,\n",
      "  \"cmte_nm\" TEXT,\n",
      "  \"tres_nm\" TEXT,\n",
      "  \"cmte_st1\" TEXT,\n",
      "  \"cmte_st2\" TEXT,\n",
      "  \"cmte_city\" TEXT,\n",
      "  \"cmte_st\" TEXT,\n",
      "  \"cmte_zip\" TEXT,\n",
      "  \"cmte_dsgn\" TEXT,\n",
      "  \"cmte_tp\" TEXT,\n",
      "  \"cmte_pty_affiliation\" TEXT,\n",
      "  \"cmte_filing_freq\" TEXT,\n",
      "  \"org_tp\" TEXT,\n",
      "  \"connected_org_nm\" TEXT,\n",
      "  \"cand_id\" TEXT\n",
      ")\n",
      "CREATE TABLE indiv_sample_nyc (\n",
      "    cmte_id character varying(9),\n",
      "    amndt_ind character(1),\n",
      "    rpt_tp character varying(3),\n",
      "    transaction_pgi character(5),\n",
      "    image_num bigint,\n",
      "    transaction_tp character varying(3),\n",
      "    entity_tp character varying(3),\n",
      "    name text,\n",
      "    city text,\n",
      "    state character(2),\n",
      "    zip_code character varying(12),\n",
      "    employer text,\n",
      "    occupation text,\n",
      "    transaction_dt character varying(9),\n",
      "    transaction_amt integer,\n",
      "    other_id text,\n",
      "    tran_id text,\n",
      "    file_num bigint,\n",
      "    memo_cd text,\n",
      "    memo_text text,\n",
      "    sub_id bigint\n",
      ")\n"
     ]
    }
   ],
   "source": [
    "for exp in connection.execute('SELECT sql FROM sqlite_master;'):\n",
    "    print(exp[0])"
   ]
  },
  {
   "cell_type": "code",
   "execution_count": 109,
   "metadata": {},
   "outputs": [
    {
     "data": {
      "text/html": [
       "<div>\n",
       "<style scoped>\n",
       "    .dataframe tbody tr th:only-of-type {\n",
       "        vertical-align: middle;\n",
       "    }\n",
       "\n",
       "    .dataframe tbody tr th {\n",
       "        vertical-align: top;\n",
       "    }\n",
       "\n",
       "    .dataframe thead th {\n",
       "        text-align: right;\n",
       "    }\n",
       "</style>\n",
       "<table border=\"1\" class=\"dataframe\">\n",
       "  <thead>\n",
       "    <tr style=\"text-align: right;\">\n",
       "      <th></th>\n",
       "      <th>cmte_id</th>\n",
       "      <th>amndt_ind</th>\n",
       "      <th>rpt_tp</th>\n",
       "      <th>transaction_pgi</th>\n",
       "      <th>image_num</th>\n",
       "      <th>transaction_tp</th>\n",
       "      <th>entity_tp</th>\n",
       "      <th>name</th>\n",
       "      <th>city</th>\n",
       "      <th>state</th>\n",
       "      <th>...</th>\n",
       "      <th>employer</th>\n",
       "      <th>occupation</th>\n",
       "      <th>transaction_dt</th>\n",
       "      <th>transaction_amt</th>\n",
       "      <th>other_id</th>\n",
       "      <th>tran_id</th>\n",
       "      <th>file_num</th>\n",
       "      <th>memo_cd</th>\n",
       "      <th>memo_text</th>\n",
       "      <th>sub_id</th>\n",
       "    </tr>\n",
       "  </thead>\n",
       "  <tbody>\n",
       "    <tr>\n",
       "      <th>0</th>\n",
       "      <td>C00445015</td>\n",
       "      <td>N</td>\n",
       "      <td>Q1</td>\n",
       "      <td>P</td>\n",
       "      <td>15951128130</td>\n",
       "      <td>15</td>\n",
       "      <td>IND</td>\n",
       "      <td>SINGER, TRIPP MR.</td>\n",
       "      <td>NEW YORK</td>\n",
       "      <td>NY</td>\n",
       "      <td>...</td>\n",
       "      <td>ATLANTIC MAILBOXES, INC.</td>\n",
       "      <td>OWNER</td>\n",
       "      <td>01302015</td>\n",
       "      <td>1000</td>\n",
       "      <td></td>\n",
       "      <td>A-CF13736</td>\n",
       "      <td>1002485</td>\n",
       "      <td></td>\n",
       "      <td></td>\n",
       "      <td>4041420151241812398</td>\n",
       "    </tr>\n",
       "    <tr>\n",
       "      <th>1</th>\n",
       "      <td>C00510461</td>\n",
       "      <td>N</td>\n",
       "      <td>Q1</td>\n",
       "      <td>P</td>\n",
       "      <td>15951129284</td>\n",
       "      <td>15E</td>\n",
       "      <td>IND</td>\n",
       "      <td>SIMON, DANIEL A</td>\n",
       "      <td>NEW YORK</td>\n",
       "      <td>NY</td>\n",
       "      <td>...</td>\n",
       "      <td>N/A</td>\n",
       "      <td>RETIRED</td>\n",
       "      <td>03292015</td>\n",
       "      <td>400</td>\n",
       "      <td>C00401224</td>\n",
       "      <td>VN8JBDDJBA8</td>\n",
       "      <td>1002590</td>\n",
       "      <td></td>\n",
       "      <td>* EARMARKED CONTRIBUTION: SEE BELOW</td>\n",
       "      <td>4041420151241813640</td>\n",
       "    </tr>\n",
       "    <tr>\n",
       "      <th>2</th>\n",
       "      <td>C00422410</td>\n",
       "      <td>N</td>\n",
       "      <td>Q1</td>\n",
       "      <td>P</td>\n",
       "      <td>15970352211</td>\n",
       "      <td>15</td>\n",
       "      <td>IND</td>\n",
       "      <td>ABDUL RAUF, FEISAL</td>\n",
       "      <td>NEW YORK</td>\n",
       "      <td>NY</td>\n",
       "      <td>...</td>\n",
       "      <td>THE CORDOBA INITIATIVE</td>\n",
       "      <td>CHAIRMAN</td>\n",
       "      <td>03042015</td>\n",
       "      <td>250</td>\n",
       "      <td></td>\n",
       "      <td>VN8A3DBSYG6</td>\n",
       "      <td>1003643</td>\n",
       "      <td></td>\n",
       "      <td></td>\n",
       "      <td>4041620151241914560</td>\n",
       "    </tr>\n",
       "    <tr>\n",
       "      <th>3</th>\n",
       "      <td>C00510461</td>\n",
       "      <td>N</td>\n",
       "      <td>Q1</td>\n",
       "      <td>P</td>\n",
       "      <td>15951129280</td>\n",
       "      <td>15</td>\n",
       "      <td>IND</td>\n",
       "      <td>SCHWARZER, FRANK</td>\n",
       "      <td>NEW YORK</td>\n",
       "      <td>NY</td>\n",
       "      <td>...</td>\n",
       "      <td>METRO HYDRAULIC JACK CO</td>\n",
       "      <td>SALES</td>\n",
       "      <td>01162015</td>\n",
       "      <td>100</td>\n",
       "      <td></td>\n",
       "      <td>VN8JBDAP4C4</td>\n",
       "      <td>1002590</td>\n",
       "      <td></td>\n",
       "      <td>* EARMARKED CONTRIBUTION: SEE BELOW</td>\n",
       "      <td>4041420151241813630</td>\n",
       "    </tr>\n",
       "    <tr>\n",
       "      <th>4</th>\n",
       "      <td>C00510461</td>\n",
       "      <td>N</td>\n",
       "      <td>Q1</td>\n",
       "      <td>P</td>\n",
       "      <td>15951129281</td>\n",
       "      <td>15</td>\n",
       "      <td>IND</td>\n",
       "      <td>SCHWARZER, FRANK</td>\n",
       "      <td>NEW YORK</td>\n",
       "      <td>NY</td>\n",
       "      <td>...</td>\n",
       "      <td>METRO HYDRAULIC JACK CO</td>\n",
       "      <td>SALES</td>\n",
       "      <td>02162015</td>\n",
       "      <td>100</td>\n",
       "      <td></td>\n",
       "      <td>VN8JBDBRDG3</td>\n",
       "      <td>1002590</td>\n",
       "      <td></td>\n",
       "      <td>* EARMARKED CONTRIBUTION: SEE BELOW</td>\n",
       "      <td>4041420151241813632</td>\n",
       "    </tr>\n",
       "  </tbody>\n",
       "</table>\n",
       "<p>5 rows × 21 columns</p>\n",
       "</div>"
      ],
      "text/plain": [
       "     cmte_id amndt_ind rpt_tp transaction_pgi    image_num transaction_tp  \\\n",
       "0  C00445015         N     Q1           P      15951128130             15   \n",
       "1  C00510461         N     Q1           P      15951129284            15E   \n",
       "2  C00422410         N     Q1           P      15970352211             15   \n",
       "3  C00510461         N     Q1           P      15951129280             15   \n",
       "4  C00510461         N     Q1           P      15951129281             15   \n",
       "\n",
       "  entity_tp                name      city state         ...           \\\n",
       "0       IND   SINGER, TRIPP MR.  NEW YORK    NY         ...            \n",
       "1       IND     SIMON, DANIEL A  NEW YORK    NY         ...            \n",
       "2       IND  ABDUL RAUF, FEISAL  NEW YORK    NY         ...            \n",
       "3       IND    SCHWARZER, FRANK  NEW YORK    NY         ...            \n",
       "4       IND    SCHWARZER, FRANK  NEW YORK    NY         ...            \n",
       "\n",
       "                   employer occupation transaction_dt transaction_amt  \\\n",
       "0  ATLANTIC MAILBOXES, INC.      OWNER       01302015            1000   \n",
       "1                       N/A    RETIRED       03292015             400   \n",
       "2    THE CORDOBA INITIATIVE   CHAIRMAN       03042015             250   \n",
       "3   METRO HYDRAULIC JACK CO      SALES       01162015             100   \n",
       "4   METRO HYDRAULIC JACK CO      SALES       02162015             100   \n",
       "\n",
       "    other_id      tran_id file_num  memo_cd  \\\n",
       "0               A-CF13736  1002485            \n",
       "1  C00401224  VN8JBDDJBA8  1002590            \n",
       "2             VN8A3DBSYG6  1003643            \n",
       "3             VN8JBDAP4C4  1002590            \n",
       "4             VN8JBDBRDG3  1002590            \n",
       "\n",
       "                             memo_text               sub_id  \n",
       "0                                       4041420151241812398  \n",
       "1  * EARMARKED CONTRIBUTION: SEE BELOW  4041420151241813640  \n",
       "2                                       4041620151241914560  \n",
       "3  * EARMARKED CONTRIBUTION: SEE BELOW  4041420151241813630  \n",
       "4  * EARMARKED CONTRIBUTION: SEE BELOW  4041420151241813632  \n",
       "\n",
       "[5 rows x 21 columns]"
      ]
     },
     "execution_count": 109,
     "metadata": {},
     "output_type": "execute_result"
    }
   ],
   "source": [
    "# We use `LIMIT 5` to avoid loading a huge table.\n",
    "# Although our tables shouldn't get too large to display,\n",
    "# this is generally good practice when working in the\n",
    "# notebook environment.  Jupyter notebooks don't handle\n",
    "# very large outputs well. \n",
    "query = \"\"\"\n",
    "SELECT * from indiv_sample_nyc LIMIT 5\n",
    "\"\"\"\n",
    "pd.read_sql(query, engine)"
   ]
  },
  {
   "cell_type": "code",
   "execution_count": 110,
   "metadata": {},
   "outputs": [
    {
     "data": {
      "text/html": [
       "<div>\n",
       "<style scoped>\n",
       "    .dataframe tbody tr th:only-of-type {\n",
       "        vertical-align: middle;\n",
       "    }\n",
       "\n",
       "    .dataframe tbody tr th {\n",
       "        vertical-align: top;\n",
       "    }\n",
       "\n",
       "    .dataframe thead th {\n",
       "        text-align: right;\n",
       "    }\n",
       "</style>\n",
       "<table border=\"1\" class=\"dataframe\">\n",
       "  <thead>\n",
       "    <tr style=\"text-align: right;\">\n",
       "      <th></th>\n",
       "      <th>cand_id</th>\n",
       "      <th>cand_name</th>\n",
       "    </tr>\n",
       "  </thead>\n",
       "  <tbody>\n",
       "    <tr>\n",
       "      <th>0</th>\n",
       "      <td>H0AL05049</td>\n",
       "      <td>CRAMER, ROBERT E \"BUD\" JR</td>\n",
       "    </tr>\n",
       "    <tr>\n",
       "      <th>1</th>\n",
       "      <td>H0AL07086</td>\n",
       "      <td>SEWELL, TERRYCINA ANDREA</td>\n",
       "    </tr>\n",
       "    <tr>\n",
       "      <th>2</th>\n",
       "      <td>H0AL07094</td>\n",
       "      <td>HILLIARD, EARL FREDERICK JR</td>\n",
       "    </tr>\n",
       "    <tr>\n",
       "      <th>3</th>\n",
       "      <td>H0AR01091</td>\n",
       "      <td>GREGORY, JAMES CHRISTOPHER</td>\n",
       "    </tr>\n",
       "    <tr>\n",
       "      <th>4</th>\n",
       "      <td>H0AR01109</td>\n",
       "      <td>CAUSEY, CHAD</td>\n",
       "    </tr>\n",
       "  </tbody>\n",
       "</table>\n",
       "</div>"
      ],
      "text/plain": [
       "     cand_id                    cand_name\n",
       "0  H0AL05049    CRAMER, ROBERT E \"BUD\" JR\n",
       "1  H0AL07086     SEWELL, TERRYCINA ANDREA\n",
       "2  H0AL07094  HILLIARD, EARL FREDERICK JR\n",
       "3  H0AR01091   GREGORY, JAMES CHRISTOPHER\n",
       "4  H0AR01109                 CAUSEY, CHAD"
      ]
     },
     "execution_count": 110,
     "metadata": {},
     "output_type": "execute_result"
    }
   ],
   "source": [
    "query = '''\n",
    "SELECT cand_id, cand_name\n",
    "FROM cand\n",
    "WHERE cand_pty_affiliation = 'DEM'\n",
    "LIMIT 5\n",
    "'''\n",
    "pd.read_sql(query,engine)"
   ]
  },
  {
   "cell_type": "markdown",
   "metadata": {},
   "source": [
    "### Notes on Grading \n",
    "\n",
    "1. For the rest of the lab, we will be grading your SQL expressions so be sure to do all computation in SQL (unless otherwise requested).  \n",
    "1. Use the query string variable we provide since we will be analyzing your SQL query strings."
   ]
  },
  {
   "cell_type": "markdown",
   "metadata": {
    "nbgrader": {
     "grade": false,
     "grade_id": "q3",
     "locked": true,
     "schema_version": 2,
     "solution": false
    }
   },
   "source": [
    "---\n",
    "## Question 3\n",
    "\n",
    "For this question we will use regular expressions and sampling to extract data out of the `indiv_sample_nyc` table."
   ]
  },
  {
   "cell_type": "code",
   "execution_count": 111,
   "metadata": {},
   "outputs": [
    {
     "name": "stdout",
     "output_type": "stream",
     "text": [
      "CREATE TABLE indiv_sample_nyc (\n",
      "    cmte_id character varying(9),\n",
      "    amndt_ind character(1),\n",
      "    rpt_tp character varying(3),\n",
      "    transaction_pgi character(5),\n",
      "    image_num bigint,\n",
      "    transaction_tp character varying(3),\n",
      "    entity_tp character varying(3),\n",
      "    name text,\n",
      "    city text,\n",
      "    state character(2),\n",
      "    zip_code character varying(12),\n",
      "    employer text,\n",
      "    occupation text,\n",
      "    transaction_dt character varying(9),\n",
      "    transaction_amt integer,\n",
      "    other_id text,\n",
      "    tran_id text,\n",
      "    file_num bigint,\n",
      "    memo_cd text,\n",
      "    memo_text text,\n",
      "    sub_id bigint\n",
      ")\n"
     ]
    }
   ],
   "source": [
    "for exp in connection.execute('SELECT sql FROM sqlite_master WHERE name=\"indiv_sample_nyc\";'):\n",
    "    print(exp[0])"
   ]
  },
  {
   "cell_type": "markdown",
   "metadata": {
    "deletable": false,
    "editable": false
   },
   "source": [
    "### Question 3a\n",
    "\n",
    "Let's first select transactions in the `indiv_sample_nyc` table with a `cmte_id` (committee id) that ends in 5. Then, groupby the transactions in the `indiv_sample_nyc` table with the `cmte_id` column, and count how many transactions and how much total amount of contribution there are for each `cmte_id`. Select the top 5 committees ordered by the transaction count.\n",
    "\n",
    "Your output should look similar to:\n",
    "\n",
    "<table border=\"1\" class=\"dataframe\">\n",
    "  <thead>\n",
    "    <tr style=\"text-align: right;\">\n",
    "      <th></th>\n",
    "      <th>committee_id</th>\n",
    "      <th>total_amount</th>\n",
    "      <th>count</th>\n",
    "    </tr>\n",
    "  </thead>\n",
    "  <tbody>\n",
    "    <tr>\n",
    "      <th>0</th>\n",
    "      <td>C00575795</td>\n",
    "      <td>25099091</td>\n",
    "      <td>110657</td>\n",
    "    </tr>\n",
    "    <tr>\n",
    "      <th>1</th>\n",
    "      <td>C00000935</td>\n",
    "      <td>6989835</td>\n",
    "      <td>36237</td>\n",
    "    </tr>\n",
    "    <tr>\n",
    "      <th>2</th>\n",
    "      <td>C00035675</td>\n",
    "      <td>316019</td>\n",
    "      <td>3417</td>\n",
    "    </tr>\n",
    "    <tr>\n",
    "      <th>3</th>\n",
    "      <td>C00040535</td>\n",
    "      <td>492567</td>\n",
    "      <td>3277</td>\n",
    "    </tr>\n",
    "    <tr>\n",
    "      <th>4</th>\n",
    "      <td>C00012245</td>\n",
    "      <td>499659</td>\n",
    "      <td>2128</td>\n",
    "    </tr>\n",
    "  </tbody>\n",
    "</table>\n",
    "\n",
    "<!--\n",
    "BEGIN QUESTION\n",
    "name: q3a\n",
    "-->"
   ]
  },
  {
   "cell_type": "code",
   "execution_count": 126,
   "metadata": {},
   "outputs": [
    {
     "data": {
      "text/html": [
       "<div>\n",
       "<style scoped>\n",
       "    .dataframe tbody tr th:only-of-type {\n",
       "        vertical-align: middle;\n",
       "    }\n",
       "\n",
       "    .dataframe tbody tr th {\n",
       "        vertical-align: top;\n",
       "    }\n",
       "\n",
       "    .dataframe thead th {\n",
       "        text-align: right;\n",
       "    }\n",
       "</style>\n",
       "<table border=\"1\" class=\"dataframe\">\n",
       "  <thead>\n",
       "    <tr style=\"text-align: right;\">\n",
       "      <th></th>\n",
       "      <th>committee_id</th>\n",
       "      <th>total_amount</th>\n",
       "      <th>count</th>\n",
       "    </tr>\n",
       "  </thead>\n",
       "  <tbody>\n",
       "    <tr>\n",
       "      <th>0</th>\n",
       "      <td>C00575795</td>\n",
       "      <td>25099091</td>\n",
       "      <td>110657</td>\n",
       "    </tr>\n",
       "    <tr>\n",
       "      <th>1</th>\n",
       "      <td>C00000935</td>\n",
       "      <td>6989835</td>\n",
       "      <td>36237</td>\n",
       "    </tr>\n",
       "    <tr>\n",
       "      <th>2</th>\n",
       "      <td>C00035675</td>\n",
       "      <td>316019</td>\n",
       "      <td>3417</td>\n",
       "    </tr>\n",
       "    <tr>\n",
       "      <th>3</th>\n",
       "      <td>C00040535</td>\n",
       "      <td>492567</td>\n",
       "      <td>3277</td>\n",
       "    </tr>\n",
       "    <tr>\n",
       "      <th>4</th>\n",
       "      <td>C00012245</td>\n",
       "      <td>499659</td>\n",
       "      <td>2128</td>\n",
       "    </tr>\n",
       "  </tbody>\n",
       "</table>\n",
       "</div>"
      ],
      "text/plain": [
       "  committee_id  total_amount   count\n",
       "0    C00575795      25099091  110657\n",
       "1    C00000935       6989835   36237\n",
       "2    C00035675        316019    3417\n",
       "3    C00040535        492567    3277\n",
       "4    C00012245        499659    2128"
      ]
     },
     "execution_count": 126,
     "metadata": {},
     "output_type": "execute_result"
    }
   ],
   "source": [
    "query_q3a='''\n",
    "SELECT\n",
    "    cmte_id AS committee_id,\n",
    "    SUM(transaction_amt) AS total_amount,\n",
    "    COUNT(*) AS count\n",
    "FROM indiv_sample_nyc\n",
    "WHERE cmte_id LIKE '%5'\n",
    "GROUP BY cmte_id\n",
    "ORDER BY count DESC\n",
    "LIMIT 5\n",
    "\n",
    "'''\n",
    "\n",
    "\n",
    "res_q3a = pd.read_sql(query_q3a, engine)\n",
    "res_q3a"
   ]
  },
  {
   "cell_type": "code",
   "execution_count": 127,
   "metadata": {
    "deletable": false,
    "editable": false
   },
   "outputs": [
    {
     "name": "stdout",
     "output_type": "stream",
     "text": [
      "~~~~~~~~~~~~~~~~~~~~~~~~~~~~~~~~~~~~~~~~~~~~~~~~~~~~~~~~~~~~~~~~~~~~~\n",
      "Running tests\n",
      "\n",
      "---------------------------------------------------------------------\n",
      "Test summary\n",
      "    Passed: 3\n",
      "    Failed: 0\n",
      "[ooooooooook] 100.0% passed\n",
      "\n"
     ]
    }
   ],
   "source": [
    "ok.grade(\"q3a\");"
   ]
  },
  {
   "cell_type": "markdown",
   "metadata": {
    "deletable": false,
    "editable": false
   },
   "source": [
    "### Question 3b\n",
    "\n",
    "When you printed the schema for the tables, you may have noticed that both the `cand` and `comm` tables have a `cand_id` column. Let's try joining these two tables on this column.\n",
    "\n",
    "List the first 5 candidate names (`cand_name`) in reverse lexicographic order by `cand_name`, along with their corresponding committee names. Only select rows that have a matching `cand_id` in both tables.\n",
    "\n",
    "Your output should look similar to:\n",
    "\n",
    "<table border=\"1\" class=\"dataframe\">\n",
    "  <thead>\n",
    "    <tr style=\"text-align: right;\">\n",
    "      <th></th>\n",
    "      <th>cand_name</th>\n",
    "      <th>cmte_nm</th>\n",
    "    </tr>\n",
    "  </thead>\n",
    "  <tbody>\n",
    "    <tr>\n",
    "      <th>0</th>\n",
    "      <td>ZUTLER, DANIEL PAUL MR</td>\n",
    "      <td>CITIZENS TO ELECT DANIEL P ZUTLER FOR PRESIDENT</td>\n",
    "    </tr>\n",
    "    <tr>\n",
    "      <th>1</th>\n",
    "      <td>ZUMWALT, JAMES</td>\n",
    "      <td>ZUMWALT FOR CONGRESS</td>\n",
    "    </tr>\n",
    "    <tr>\n",
    "      <th>2</th>\n",
    "      <td>ZUKOWSKI, ANDREW GEORGE</td>\n",
    "      <td>ZUKOWSKI FOR CONGRESS</td>\n",
    "    </tr>\n",
    "    <tr>\n",
    "      <th>3</th>\n",
    "      <td>ZUCCOLO, JOE</td>\n",
    "      <td>JOE ZUCCOLO FOR CONGRESS</td>\n",
    "    </tr>\n",
    "    <tr>\n",
    "      <th>4</th>\n",
    "      <td>ZORN, ROBERT ERWIN</td>\n",
    "      <td>CONSTITUTIONAL COMMITTEE</td>\n",
    "    </tr>\n",
    "  </tbody>\n",
    "</table>\n",
    "\n",
    "<!--\n",
    "BEGIN QUESTION\n",
    "name: q3b\n",
    "-->"
   ]
  },
  {
   "cell_type": "code",
   "execution_count": 132,
   "metadata": {},
   "outputs": [
    {
     "data": {
      "text/html": [
       "<div>\n",
       "<style scoped>\n",
       "    .dataframe tbody tr th:only-of-type {\n",
       "        vertical-align: middle;\n",
       "    }\n",
       "\n",
       "    .dataframe tbody tr th {\n",
       "        vertical-align: top;\n",
       "    }\n",
       "\n",
       "    .dataframe thead th {\n",
       "        text-align: right;\n",
       "    }\n",
       "</style>\n",
       "<table border=\"1\" class=\"dataframe\">\n",
       "  <thead>\n",
       "    <tr style=\"text-align: right;\">\n",
       "      <th></th>\n",
       "      <th>cand_name</th>\n",
       "      <th>cmte_nm</th>\n",
       "    </tr>\n",
       "  </thead>\n",
       "  <tbody>\n",
       "    <tr>\n",
       "      <th>0</th>\n",
       "      <td>ZUTLER, DANIEL PAUL MR</td>\n",
       "      <td>CITIZENS TO ELECT DANIEL P ZUTLER FOR PRESIDENT</td>\n",
       "    </tr>\n",
       "    <tr>\n",
       "      <th>1</th>\n",
       "      <td>ZUMWALT, JAMES</td>\n",
       "      <td>ZUMWALT FOR CONGRESS</td>\n",
       "    </tr>\n",
       "    <tr>\n",
       "      <th>2</th>\n",
       "      <td>ZUKOWSKI, ANDREW GEORGE</td>\n",
       "      <td>ZUKOWSKI FOR CONGRESS</td>\n",
       "    </tr>\n",
       "    <tr>\n",
       "      <th>3</th>\n",
       "      <td>ZUCCOLO, JOE</td>\n",
       "      <td>JOE ZUCCOLO FOR CONGRESS</td>\n",
       "    </tr>\n",
       "    <tr>\n",
       "      <th>4</th>\n",
       "      <td>ZORN, ROBERT ERWIN</td>\n",
       "      <td>CONSTITUTIONAL COMMITTEE</td>\n",
       "    </tr>\n",
       "  </tbody>\n",
       "</table>\n",
       "</div>"
      ],
      "text/plain": [
       "                 cand_name                                          cmte_nm\n",
       "0   ZUTLER, DANIEL PAUL MR  CITIZENS TO ELECT DANIEL P ZUTLER FOR PRESIDENT\n",
       "1           ZUMWALT, JAMES                             ZUMWALT FOR CONGRESS\n",
       "2  ZUKOWSKI, ANDREW GEORGE                            ZUKOWSKI FOR CONGRESS\n",
       "3             ZUCCOLO, JOE                         JOE ZUCCOLO FOR CONGRESS\n",
       "4       ZORN, ROBERT ERWIN                         CONSTITUTIONAL COMMITTEE"
      ]
     },
     "execution_count": 132,
     "metadata": {},
     "output_type": "execute_result"
    }
   ],
   "source": [
    "query_q3b='''\n",
    "SELECT c1.cand_name AS cand_name, c2.cmte_nm AS cmte_nm\n",
    "FROM cand c1 INNER JOIN comm c2 ON c1.cand_id = c2.cand_id\n",
    "ORDER BY cand_name DESC\n",
    "LIMIT 5\n",
    "\n",
    "'''\n",
    "\n",
    "res_q3b = pd.read_sql(query_q3b, engine)\n",
    "res_q3b"
   ]
  },
  {
   "cell_type": "code",
   "execution_count": 133,
   "metadata": {
    "deletable": false,
    "editable": false
   },
   "outputs": [
    {
     "name": "stdout",
     "output_type": "stream",
     "text": [
      "~~~~~~~~~~~~~~~~~~~~~~~~~~~~~~~~~~~~~~~~~~~~~~~~~~~~~~~~~~~~~~~~~~~~~\n",
      "Running tests\n",
      "\n",
      "---------------------------------------------------------------------\n",
      "Test summary\n",
      "    Passed: 3\n",
      "    Failed: 0\n",
      "[ooooooooook] 100.0% passed\n",
      "\n"
     ]
    }
   ],
   "source": [
    "ok.grade(\"q3b\");"
   ]
  },
  {
   "cell_type": "markdown",
   "metadata": {
    "deletable": false,
    "editable": false
   },
   "source": [
    "### Question 3c\n",
    "\n",
    "As in the previous part, list the first 5 candidate names (`cand_name`) by reverse lexicographic order and their corresponding committee names (`cmte_nm`). This time, include all candidate names. If there is no matching `cand_id` in the `comm` table, then `cmte_nm` should be NULL.\n",
    "\n",
    "Your output should look similar to:\n",
    "\n",
    "<table border=\"1\" class=\"dataframe\">\n",
    "  <thead>\n",
    "    <tr style=\"text-align: right;\">\n",
    "      <th></th>\n",
    "      <th>cand_name</th>\n",
    "      <th>cmte_nm</th>\n",
    "    </tr>\n",
    "  </thead>\n",
    "  <tbody>\n",
    "    <tr>\n",
    "      <th>0</th>\n",
    "      <td>ZUTLER, DANIEL PAUL MR</td>\n",
    "      <td>CITIZENS TO ELECT DANIEL P ZUTLER FOR PRESIDENT</td>\n",
    "    </tr>\n",
    "    <tr>\n",
    "      <th>1</th>\n",
    "      <td>ZUMWALT, JAMES</td>\n",
    "      <td>ZUMWALT FOR CONGRESS</td>\n",
    "    </tr>\n",
    "    <tr>\n",
    "      <th>2</th>\n",
    "      <td>ZUKOWSKI, ANDREW GEORGE</td>\n",
    "      <td>ZUKOWSKI FOR CONGRESS</td>\n",
    "    </tr>\n",
    "    <tr>\n",
    "      <th>3</th>\n",
    "      <td>ZUCCOLO, JOE</td>\n",
    "      <td>JOE ZUCCOLO FOR CONGRESS</td>\n",
    "    </tr>\n",
    "    <tr>\n",
    "      <th>4</th>\n",
    "      <td>ZORNOW, TODD MR</td>\n",
    "      <td>None</td>\n",
    "    </tr>\n",
    "  </tbody>\n",
    "</table>\n",
    "\n",
    "<!--\n",
    "BEGIN QUESTION\n",
    "name: q3c\n",
    "-->"
   ]
  },
  {
   "cell_type": "code",
   "execution_count": 135,
   "metadata": {},
   "outputs": [
    {
     "data": {
      "text/html": [
       "<div>\n",
       "<style scoped>\n",
       "    .dataframe tbody tr th:only-of-type {\n",
       "        vertical-align: middle;\n",
       "    }\n",
       "\n",
       "    .dataframe tbody tr th {\n",
       "        vertical-align: top;\n",
       "    }\n",
       "\n",
       "    .dataframe thead th {\n",
       "        text-align: right;\n",
       "    }\n",
       "</style>\n",
       "<table border=\"1\" class=\"dataframe\">\n",
       "  <thead>\n",
       "    <tr style=\"text-align: right;\">\n",
       "      <th></th>\n",
       "      <th>cand_name</th>\n",
       "      <th>cmte_nm</th>\n",
       "    </tr>\n",
       "  </thead>\n",
       "  <tbody>\n",
       "    <tr>\n",
       "      <th>0</th>\n",
       "      <td>ZUTLER, DANIEL PAUL MR</td>\n",
       "      <td>CITIZENS TO ELECT DANIEL P ZUTLER FOR PRESIDENT</td>\n",
       "    </tr>\n",
       "    <tr>\n",
       "      <th>1</th>\n",
       "      <td>ZUMWALT, JAMES</td>\n",
       "      <td>ZUMWALT FOR CONGRESS</td>\n",
       "    </tr>\n",
       "    <tr>\n",
       "      <th>2</th>\n",
       "      <td>ZUKOWSKI, ANDREW GEORGE</td>\n",
       "      <td>ZUKOWSKI FOR CONGRESS</td>\n",
       "    </tr>\n",
       "    <tr>\n",
       "      <th>3</th>\n",
       "      <td>ZUCCOLO, JOE</td>\n",
       "      <td>JOE ZUCCOLO FOR CONGRESS</td>\n",
       "    </tr>\n",
       "    <tr>\n",
       "      <th>4</th>\n",
       "      <td>ZORNOW, TODD MR</td>\n",
       "      <td>None</td>\n",
       "    </tr>\n",
       "  </tbody>\n",
       "</table>\n",
       "</div>"
      ],
      "text/plain": [
       "                 cand_name                                          cmte_nm\n",
       "0   ZUTLER, DANIEL PAUL MR  CITIZENS TO ELECT DANIEL P ZUTLER FOR PRESIDENT\n",
       "1           ZUMWALT, JAMES                             ZUMWALT FOR CONGRESS\n",
       "2  ZUKOWSKI, ANDREW GEORGE                            ZUKOWSKI FOR CONGRESS\n",
       "3             ZUCCOLO, JOE                         JOE ZUCCOLO FOR CONGRESS\n",
       "4          ZORNOW, TODD MR                                             None"
      ]
     },
     "execution_count": 135,
     "metadata": {},
     "output_type": "execute_result"
    }
   ],
   "source": [
    "query_q3c='''\n",
    "SELECT c1.cand_name AS cand_name, c2.cmte_nm AS cmte_nm\n",
    "FROM cand c1 LEFT JOIN comm c2 ON c1.cand_id = c2.cand_id\n",
    "ORDER BY cand_name DESC\n",
    "LIMIT 5\n",
    "'''\n",
    "\n",
    "res_q3c = pd.read_sql(query_q3c, engine)\n",
    "res_q3c"
   ]
  },
  {
   "cell_type": "code",
   "execution_count": 136,
   "metadata": {
    "deletable": false,
    "editable": false
   },
   "outputs": [
    {
     "name": "stdout",
     "output_type": "stream",
     "text": [
      "~~~~~~~~~~~~~~~~~~~~~~~~~~~~~~~~~~~~~~~~~~~~~~~~~~~~~~~~~~~~~~~~~~~~~\n",
      "Running tests\n",
      "\n",
      "---------------------------------------------------------------------\n",
      "Test summary\n",
      "    Passed: 3\n",
      "    Failed: 0\n",
      "[ooooooooook] 100.0% passed\n",
      "\n"
     ]
    }
   ],
   "source": [
    "ok.grade(\"q3c\");"
   ]
  },
  {
   "cell_type": "markdown",
   "metadata": {},
   "source": [
    "# Make sure to complete the Vitamin on Gradescope!"
   ]
  },
  {
   "cell_type": "markdown",
   "metadata": {
    "nbgrader": {
     "grade": false,
     "grade_id": "finish",
     "locked": true,
     "schema_version": 2,
     "solution": false
    }
   },
   "source": [
    "**Congrats! You are finished with this assignment.**"
   ]
  },
  {
   "cell_type": "code",
   "execution_count": null,
   "metadata": {
    "deletable": false,
    "editable": false
   },
   "outputs": [
    {
     "data": {
      "application/javascript": [
       "IPython.notebook.save_checkpoint();"
      ],
      "text/plain": [
       "<IPython.core.display.Javascript object>"
      ]
     },
     "metadata": {},
     "output_type": "display_data"
    }
   ],
   "source": [
    "# Save your notebook first, then run this cell to submit.\n",
    "ok.submit()"
   ]
  },
  {
   "cell_type": "code",
   "execution_count": null,
   "metadata": {},
   "outputs": [],
   "source": []
  }
 ],
 "metadata": {
  "celltoolbar": "Create Assignment",
  "kernelspec": {
   "display_name": "Python 3",
   "language": "python",
   "name": "python3"
  },
  "language_info": {
   "codemirror_mode": {
    "name": "ipython",
    "version": 3
   },
   "file_extension": ".py",
   "mimetype": "text/x-python",
   "name": "python",
   "nbconvert_exporter": "python",
   "pygments_lexer": "ipython3",
   "version": "3.6.4"
  }
 },
 "nbformat": 4,
 "nbformat_minor": 2
}
